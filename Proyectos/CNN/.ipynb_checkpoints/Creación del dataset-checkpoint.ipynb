{
 "cells": [
  {
   "cell_type": "markdown",
   "id": "1781f6d1",
   "metadata": {},
   "source": [
    "# Creación del Dataset de Flores\n",
    "Se creo por cada imagen del Dataset original una diferente girada de -5 a 5 grados."
   ]
  },
  {
   "cell_type": "code",
   "execution_count": 10,
   "id": "fd7b2b7d",
   "metadata": {},
   "outputs": [],
   "source": [
    "from PIL import Image\n",
    "import os\n",
    "\n",
    "def rotate_images(input_folder, output_folder):\n",
    "    # Crear la carpeta de salida si no existe\n",
    "    if not os.path.exists(output_folder):\n",
    "        os.makedirs(output_folder)\n",
    "\n",
    "    # Lista todas las imágenes dentro de la carpeta de entrada\n",
    "    image_files = [f.path for f in os.scandir(input_folder) if f.is_file() and f.name.endswith(('.png', '.jpg', '.jpeg'))]\n",
    "\n",
    "    for image_file in image_files:\n",
    "        # Abre la imagen\n",
    "        original_image = Image.open(image_file)\n",
    "\n",
    "        # Realiza rotaciones de -5 a 5 grados\n",
    "        for angle in range(-5, 6):\n",
    "            # Crea una copia de la imagen original\n",
    "            rotated_image = original_image.rotate(angle)\n",
    "\n",
    "            # Obtiene el nombre del archivo sin la extensión\n",
    "            filename_without_extension = os.path.splitext(os.path.basename(image_file))[0]\n",
    "\n",
    "            # Genera el nombre del archivo para la imagen rotada\n",
    "            rotated_filename = f\"{filename_without_extension}_rotated_{angle}deg.jpg\"\n",
    "\n",
    "            # Guarda la imagen rotada en la carpeta de salida\n",
    "            rotated_image.save(os.path.join(output_folder, rotated_filename))\n",
    "\n",
    "            # Genera otra imagen rotada a 90 grados\n",
    "            rotated_image_90 = original_image.rotate(90)\n",
    "\n",
    "            # Genera el nombre del archivo para la imagen rotada a 90 grados\n",
    "            rotated_filename_90 = f\"{filename_without_extension}_rotated_90deg.jpg\"\n",
    "\n",
    "            # Guarda la imagen rotada a 90 grados en la carpeta de salida\n",
    "            rotated_image_90.save(os.path.join(output_folder, rotated_filename_90))\n",
    "\n",
    "if __name__ == \"__main__\":\n",
    "    # Especifica la carpeta de entrada y la carpeta de salida\n",
    "    input_folder = \"./dataset-flowers/tulip\"\n",
    "    output_folder = \"./dataset-flowers-Z/tulip\"\n",
    "\n",
    "    # Llama a la función para rotar las imágenes\n",
    "    rotate_images(input_folder, output_folder)            \n"
   ]
  },
  {
   "cell_type": "markdown",
   "id": "37747b18",
   "metadata": {},
   "source": [
    "# Transformada Gausiana\n",
    "Aplicamos la transformada Gausiana a cada una de las imágenes para realizar un mejor dataset"
   ]
  },
  {
   "cell_type": "code",
   "execution_count": 32,
   "id": "fc2a95f2",
   "metadata": {},
   "outputs": [
    {
     "name": "stdout",
     "output_type": "stream",
     "text": [
      "Imágenes en escala de grises con transformada gaussiana guardadas en ./dataset-flowers-G/sunflower\n"
     ]
    }
   ],
   "source": [
    "import os\n",
    "import cv2\n",
    "\n",
    "def dataset_gg(entrada_carpeta, salida_carpeta, sigma=1):\n",
    "    # Verificar si la carpeta de salida existe, si no, crearla\n",
    "    if not os.path.exists(salida_carpeta):\n",
    "        os.makedirs(salida_carpeta)\n",
    "\n",
    "    # Obtener la lista de archivos en la carpeta de entrada\n",
    "    archivos_imagenes = [archivo for archivo in os.listdir(entrada_carpeta) if archivo.endswith(('.jpg', '.jpeg', '.png'))]\n",
    "\n",
    "    # Iterar sobre cada archivo de imagen en la carpeta de entrada\n",
    "    for archivo_imagen in archivos_imagenes:\n",
    "        # Construir las rutas de entrada y salida\n",
    "        ruta_entrada = os.path.join(entrada_carpeta, archivo_imagen)\n",
    "        ruta_salida = os.path.join(salida_carpeta, f\"{os.path.splitext(archivo_imagen)[0]}_gris_suavizada.jpg\")\n",
    "\n",
    "        # Cargar la imagen en colores\n",
    "        imagen_color = cv2.imread(ruta_entrada)\n",
    "\n",
    "        # Convertir la imagen a escala de grises\n",
    "        #imagen_gris = cv2.cvtColor(imagen_color, cv2.COLOR_BGR2GRAY)\n",
    "\n",
    "        # Aplicar la transformada gaussiana\n",
    "        imagen_suavizada = cv2.GaussianBlur(imagen_color, (0, 0), sigma)\n",
    "\n",
    "        # Guardar la imagen en escala de grises y suavizada en la carpeta de salida\n",
    "        cv2.imwrite(ruta_salida, imagen_suavizada, [int(cv2.IMWRITE_JPEG_QUALITY), 100])\n",
    "\n",
    "    print(f\"Imágenes en escala de grises con transformada gaussiana guardadas en {salida_carpeta}\")\n",
    "\n",
    "\n",
    "# Ejemplo de uso\n",
    "carpeta_entrada = \"./dataset-flowers-Z/sunflower\"\n",
    "carpeta_salida = \"./dataset-flowers-G/sunflower\"\n",
    "dataset_gg(carpeta_entrada, carpeta_salida)"
   ]
  },
  {
   "cell_type": "code",
   "execution_count": null,
   "id": "071b7783",
   "metadata": {},
   "outputs": [],
   "source": []
  }
 ],
 "metadata": {
  "kernelspec": {
   "display_name": "Python 3 (ipykernel)",
   "language": "python",
   "name": "python3"
  },
  "language_info": {
   "codemirror_mode": {
    "name": "ipython",
    "version": 3
   },
   "file_extension": ".py",
   "mimetype": "text/x-python",
   "name": "python",
   "nbconvert_exporter": "python",
   "pygments_lexer": "ipython3",
   "version": "3.11.4"
  }
 },
 "nbformat": 4,
 "nbformat_minor": 5
}
