{
 "cells": [
  {
   "cell_type": "code",
   "execution_count": 1,
   "metadata": {
    "scrolled": true
   },
   "outputs": [
    {
     "name": "stdout",
     "output_type": "stream",
     "text": [
      "256 256 3 3\n"
     ]
    }
   ],
   "source": [
    "import cv2 \n",
    "\n",
    "img = cv2.imread('./dataset-flowers\\\\iris\\\\15020790_f8aaf8850b_c.jpg')\n",
    "print(img.shape[0], img.shape[1], img.shape[2], len(img.shape))"
   ]
  },
  {
   "cell_type": "markdown",
   "metadata": {},
   "source": [
    "# Convolutional Neural Networks"
   ]
  },
  {
   "cell_type": "markdown",
   "metadata": {},
   "source": [
    "# Importar Librerías"
   ]
  },
  {
   "cell_type": "code",
   "execution_count": 2,
   "metadata": {
    "ExecuteTime": {
     "end_time": "2018-11-08T00:12:59.231970Z",
     "start_time": "2018-11-08T00:12:51.800950Z"
    }
   },
   "outputs": [],
   "source": [
    "import numpy as np\n",
    "import os\n",
    "import re\n",
    "import matplotlib.pyplot as plt\n",
    "%matplotlib inline\n",
    "from sklearn.model_selection import train_test_split\n",
    "from sklearn.metrics import classification_report"
   ]
  },
  {
   "cell_type": "code",
   "execution_count": 3,
   "metadata": {
    "ExecuteTime": {
     "end_time": "2018-11-08T00:13:12.550878Z",
     "start_time": "2018-11-08T00:12:59.234748Z"
    },
    "scrolled": true
   },
   "outputs": [
    {
     "name": "stdout",
     "output_type": "stream",
     "text": [
      "WARNING:tensorflow:From C:\\Users\\daven\\anaconda3\\Lib\\site-packages\\keras\\src\\losses.py:2976: The name tf.losses.sparse_softmax_cross_entropy is deprecated. Please use tf.compat.v1.losses.sparse_softmax_cross_entropy instead.\n",
      "\n"
     ]
    }
   ],
   "source": [
    "import keras\n",
    "import tensorflow as tf\n",
    "from tensorflow.keras.utils import to_categorical\n",
    "from keras.models import Sequential,Model\n",
    "from tensorflow.keras.layers import Input\n",
    "from keras.layers import Dense, Dropout, Flatten\n",
    "#from keras.layers import Conv2D, MaxPooling2D\n",
    "#from tensorflow.keras.models import Sequential\n",
    "from tensorflow.keras.layers import (\n",
    "    BatchNormalization, SeparableConv2D, MaxPooling2D, Activation, Flatten, Dropout, Dense, Conv2D\n",
    ")\n",
    "from keras.layers import LeakyReLU"
   ]
  },
  {
   "cell_type": "markdown",
   "metadata": {},
   "source": [
    "# Cargar set de Imágenes"
   ]
  },
  {
   "cell_type": "code",
   "execution_count": 4,
   "metadata": {
    "ExecuteTime": {
     "end_time": "2018-11-08T00:16:45.248080Z",
     "start_time": "2018-11-08T00:13:12.553292Z"
    },
    "scrolled": true
   },
   "outputs": [
    {
     "name": "stdout",
     "output_type": "stream",
     "text": [
      "leyendo imagenes de  C:\\Users\\daven\\Documents\\ITMorelia\\Semestre IX\\Inteligencia Artificial\\IA\\Inteligencia-Artificial\\Proyecto\\./dataset-flowers-Z\\\n",
      "C:\\Users\\daven\\Documents\\ITMorelia\\Semestre IX\\Inteligencia Artificial\\IA\\Inteligencia-Artificial\\Proyecto\\./dataset-flowers-Z\\astilbe 1\n",
      "C:\\Users\\daven\\Documents\\ITMorelia\\Semestre IX\\Inteligencia Artificial\\IA\\Inteligencia-Artificial\\Proyecto\\./dataset-flowers-Z\\iris 8712\n",
      "C:\\Users\\daven\\Documents\\ITMorelia\\Semestre IX\\Inteligencia Artificial\\IA\\Inteligencia-Artificial\\Proyecto\\./dataset-flowers-Z\\rose 12492\n",
      "C:\\Users\\daven\\Documents\\ITMorelia\\Semestre IX\\Inteligencia Artificial\\IA\\Inteligencia-Artificial\\Proyecto\\./dataset-flowers-Z\\sunflower 16728\n",
      "C:\\Users\\daven\\Documents\\ITMorelia\\Semestre IX\\Inteligencia Artificial\\IA\\Inteligencia-Artificial\\Proyecto\\./dataset-flowers-Z\\tulip 17460\n",
      "Directorios leidos: 5\n",
      "Imagenes en cada directorio [8713, 12492, 16728, 17460, 17003]\n",
      "suma Total de imagenes en subdirs: 72396\n"
     ]
    }
   ],
   "source": [
    "dirname = os.path.join(os.getcwd(),'./dataset-flowers-Z')\n",
    "imgpath = dirname + os.sep \n",
    "\n",
    "images = []\n",
    "directories = []\n",
    "dircount = []\n",
    "prevRoot=''\n",
    "cant=0\n",
    "\n",
    "print(\"leyendo imagenes de \",imgpath)\n",
    "\n",
    "for root, dirnames, filenames in os.walk(imgpath):\n",
    "    for filename in filenames:\n",
    "        if re.search(\"\\.(jpg|jpeg|png|bmp|tiff)$\", filename):\n",
    "            cant=cant+1\n",
    "            filepath = os.path.join(root, filename)\n",
    "            image = plt.imread(filepath)\n",
    "            if(len(image.shape)==3):\n",
    "                \n",
    "                images.append(image)\n",
    "            b = \"Leyendo...\" + str(cant)\n",
    "            print (b, end=\"\\r\")\n",
    "            if prevRoot !=root:\n",
    "                print(root, cant)\n",
    "                prevRoot=root\n",
    "                directories.append(root)\n",
    "                dircount.append(cant)\n",
    "                cant=0\n",
    "dircount.append(cant)\n",
    "\n",
    "dircount = dircount[1:]\n",
    "dircount[0]=dircount[0]+1\n",
    "print('Directorios leidos:',len(directories))\n",
    "print(\"Imagenes en cada directorio\", dircount)\n",
    "print('suma Total de imagenes en subdirs:',sum(dircount))"
   ]
  },
  {
   "cell_type": "markdown",
   "metadata": {},
   "source": [
    "# Creamos las etiquetas"
   ]
  },
  {
   "cell_type": "code",
   "execution_count": 5,
   "metadata": {
    "ExecuteTime": {
     "end_time": "2018-11-08T00:16:45.269861Z",
     "start_time": "2018-11-08T00:16:45.251786Z"
    }
   },
   "outputs": [
    {
     "name": "stdout",
     "output_type": "stream",
     "text": [
      "Cantidad etiquetas creadas:  72396\n"
     ]
    }
   ],
   "source": [
    "labels=[]\n",
    "indice=0\n",
    "for cantidad in dircount:\n",
    "    for i in range(cantidad):\n",
    "        labels.append(indice)\n",
    "    indice=indice+1\n",
    "print(\"Cantidad etiquetas creadas: \",len(labels))\n"
   ]
  },
  {
   "cell_type": "code",
   "execution_count": 6,
   "metadata": {
    "ExecuteTime": {
     "end_time": "2018-11-08T00:16:45.285925Z",
     "start_time": "2018-11-08T00:16:45.273489Z"
    }
   },
   "outputs": [
    {
     "name": "stdout",
     "output_type": "stream",
     "text": [
      "0 astilbe\n",
      "1 iris\n",
      "2 rose\n",
      "3 sunflower\n",
      "4 tulip\n"
     ]
    }
   ],
   "source": [
    "deportes=[]\n",
    "indice=0\n",
    "for directorio in directories:\n",
    "    name = directorio.split(os.sep)\n",
    "    print(indice , name[len(name)-1])\n",
    "    deportes.append(name[len(name)-1])\n",
    "    indice=indice+1"
   ]
  },
  {
   "cell_type": "code",
   "execution_count": 7,
   "metadata": {
    "ExecuteTime": {
     "end_time": "2018-11-08T00:16:45.498672Z",
     "start_time": "2018-11-08T00:16:45.290061Z"
    }
   },
   "outputs": [
    {
     "name": "stdout",
     "output_type": "stream",
     "text": [
      "Total number of outputs :  5\n",
      "Output classes :  [0 1 2 3 4]\n"
     ]
    }
   ],
   "source": [
    "resize_images = [cv2.resize(img, (28,28)) for img in images]\n",
    "y = np.array(labels)\n",
    "X = np.array(resize_images, dtype=np.uint8) #convierto de lista a numpy\n",
    "\n",
    "\n",
    "\n",
    "# Find the unique numbers from the train labels\n",
    "classes = np.unique(y)\n",
    "nClasses = len(classes)\n",
    "print('Total number of outputs : ', nClasses)\n",
    "print('Output classes : ', classes)"
   ]
  },
  {
   "cell_type": "markdown",
   "metadata": {},
   "source": [
    "# Creamos Sets de Entrenamiento y Test"
   ]
  },
  {
   "cell_type": "code",
   "execution_count": 8,
   "metadata": {
    "ExecuteTime": {
     "end_time": "2018-11-08T00:16:45.669596Z",
     "start_time": "2018-11-08T00:16:45.502716Z"
    }
   },
   "outputs": [
    {
     "name": "stdout",
     "output_type": "stream",
     "text": [
      "Training data shape :  (57916, 28, 28, 3) (57916,)\n",
      "Testing data shape :  (14480, 28, 28, 3) (14480,)\n"
     ]
    }
   ],
   "source": [
    "train_X,test_X,train_Y,test_Y = train_test_split(X,y,test_size=0.2)\n",
    "print('Training data shape : ', train_X.shape, train_Y.shape)\n",
    "print('Testing data shape : ', test_X.shape, test_Y.shape)"
   ]
  },
  {
   "cell_type": "code",
   "execution_count": 9,
   "metadata": {
    "ExecuteTime": {
     "end_time": "2018-11-08T00:16:49.319746Z",
     "start_time": "2018-11-08T00:16:45.673944Z"
    }
   },
   "outputs": [
    {
     "data": {
      "text/plain": [
       "Text(0.5, 1.0, 'Ground Truth : 3')"
      ]
     },
     "execution_count": 9,
     "metadata": {},
     "output_type": "execute_result"
    },
    {
     "data": {
      "image/png": "[encoded data removed]",
      "text/plain": [
       "<Figure size 500x500 with 2 Axes>"
      ]
     },
     "metadata": {},
     "output_type": "display_data"
    }
   ],
   "source": [
    "plt.figure(figsize=[5,5])\n",
    "\n",
    "# Display the first image in training data\n",
    "plt.subplot(121)\n",
    "plt.imshow(train_X[0,:,:], cmap='gray')\n",
    "plt.title(\"Ground Truth : {}\".format(train_Y[0]))\n",
    "\n",
    "# Display the first image in testing data\n",
    "plt.subplot(122)\n",
    "plt.imshow(test_X[0,:,:], cmap='gray')\n",
    "plt.title(\"Ground Truth : {}\".format(test_Y[0]))"
   ]
  },
  {
   "cell_type": "markdown",
   "metadata": {},
   "source": [
    "# Preprocesamos las imagenes"
   ]
  },
  {
   "cell_type": "code",
   "execution_count": 10,
   "metadata": {
    "ExecuteTime": {
     "end_time": "2018-11-08T00:16:50.798162Z",
     "start_time": "2018-11-08T00:16:49.322999Z"
    }
   },
   "outputs": [
    {
     "data": {
      "text/plain": [
       "<matplotlib.image.AxesImage at 0x207df1067d0>"
      ]
     },
     "execution_count": 10,
     "metadata": {},
     "output_type": "execute_result"
    },
    {
     "data": {
      "image/png": "[encoded data removed]",
      "text/plain": [
       "<Figure size 640x480 with 1 Axes>"
      ]
     },
     "metadata": {},
     "output_type": "display_data"
    }
   ],
   "source": [
    "train_X = train_X.astype('float32')\n",
    "test_X = test_X.astype('float32')\n",
    "train_X = train_X/255.\n",
    "test_X = test_X/255.\n",
    "plt.imshow(test_X[0,:,:])"
   ]
  },
  {
   "cell_type": "markdown",
   "metadata": {},
   "source": [
    "## Hacemos el One-hot Encoding para la red"
   ]
  },
  {
   "cell_type": "code",
   "execution_count": 11,
   "metadata": {
    "ExecuteTime": {
     "end_time": "2018-11-08T00:16:50.815482Z",
     "start_time": "2018-11-08T00:16:50.800831Z"
    }
   },
   "outputs": [
    {
     "name": "stdout",
     "output_type": "stream",
     "text": [
      "Original label: 2\n",
      "After conversion to one-hot: [0. 0. 1. 0. 0.]\n"
     ]
    }
   ],
   "source": [
    "#from tensorflow.keras.utils import to_categorical\n",
    "\n",
    "# Change the labels from categorical to one-hot encoding\n",
    "train_Y_one_hot = to_categorical(train_Y)\n",
    "test_Y_one_hot = to_categorical(test_Y)\n",
    "\n",
    "# Display the change for category label using one-hot encoding\n",
    "print('Original label:', train_Y[0])\n",
    "print('After conversion to one-hot:', train_Y_one_hot[0])"
   ]
  },
  {
   "cell_type": "markdown",
   "metadata": {},
   "source": [
    "# Creamos el Set de Entrenamiento y Validación"
   ]
  },
  {
   "cell_type": "code",
   "execution_count": 12,
   "metadata": {
    "ExecuteTime": {
     "end_time": "2018-11-08T00:16:51.218520Z",
     "start_time": "2018-11-08T00:16:50.818992Z"
    }
   },
   "outputs": [],
   "source": [
    "#Mezclar todo y crear los grupos de entrenamiento y testing\n",
    "train_X,valid_X,train_label,valid_label = train_test_split(train_X, train_Y_one_hot, test_size=0.2, random_state=13)"
   ]
  },
  {
   "cell_type": "code",
   "execution_count": 13,
   "metadata": {
    "ExecuteTime": {
     "end_time": "2018-11-08T00:16:51.228116Z",
     "start_time": "2018-11-08T00:16:51.222460Z"
    }
   },
   "outputs": [
    {
     "name": "stdout",
     "output_type": "stream",
     "text": [
      "(46332, 28, 28, 3) (11584, 28, 28, 3) (46332, 5) (11584, 5)\n"
     ]
    }
   ],
   "source": [
    "print(train_X.shape,valid_X.shape,train_label.shape,valid_label.shape)"
   ]
  },
  {
   "cell_type": "markdown",
   "metadata": {},
   "source": [
    "# Creamos el modelo de CNN"
   ]
  },
  {
   "cell_type": "code",
   "execution_count": 14,
   "metadata": {
    "ExecuteTime": {
     "end_time": "2018-11-08T00:16:51.244776Z",
     "start_time": "2018-11-08T00:16:51.238704Z"
    }
   },
   "outputs": [],
   "source": [
    "#declaramos variables con los parámetros de configuración de la red\n",
    "INIT_LR = 1e-3 # Valor inicial de learning rate. El valor 1e-3 corresponde con 0.001\n",
    "epochs = 100 # Cantidad de iteraciones completas al conjunto de imagenes de entrenamiento\n",
    "batch_size = 50 # cantidad de imágenes que se toman a la vez en memoria"
   ]
  },
  {
   "cell_type": "code",
   "execution_count": 15,
   "metadata": {
    "ExecuteTime": {
     "end_time": "2018-11-08T00:16:51.384131Z",
     "start_time": "2018-11-08T00:16:51.252188Z"
    }
   },
   "outputs": [
    {
     "name": "stdout",
     "output_type": "stream",
     "text": [
      "WARNING:tensorflow:From C:\\Users\\daven\\anaconda3\\Lib\\site-packages\\keras\\src\\backend.py:873: The name tf.get_default_graph is deprecated. Please use tf.compat.v1.get_default_graph instead.\n",
      "\n",
      "WARNING:tensorflow:From C:\\Users\\daven\\anaconda3\\Lib\\site-packages\\keras\\src\\layers\\pooling\\max_pooling2d.py:161: The name tf.nn.max_pool is deprecated. Please use tf.nn.max_pool2d instead.\n",
      "\n"
     ]
    }
   ],
   "source": [
    "sport_model = Sequential()\n",
    "sport_model.add(Conv2D(32, kernel_size=(3, 3),activation='linear',padding='same',input_shape=(28,28,3)))\n",
    "sport_model.add(LeakyReLU(alpha=0.1))\n",
    "sport_model.add(MaxPooling2D((2, 2),padding='same'))\n",
    "sport_model.add(Dropout(0.5))\n",
    "\n",
    "\n",
    "sport_model.add(Flatten())\n",
    "sport_model.add(Dense(32, activation='linear'))\n",
    "sport_model.add(LeakyReLU(alpha=0.1))\n",
    "sport_model.add(Dropout(0.5))\n",
    "sport_model.add(Dense(nClasses, activation='softmax'))"
   ]
  },
  {
   "cell_type": "code",
   "execution_count": 16,
   "metadata": {
    "ExecuteTime": {
     "end_time": "2018-11-08T00:16:51.401674Z",
     "start_time": "2018-11-08T00:16:51.386676Z"
    }
   },
   "outputs": [
    {
     "name": "stdout",
     "output_type": "stream",
     "text": [
      "Model: \"sequential\"\n",
      "_________________________________________________________________\n",
      " Layer (type)                Output Shape              Param #   \n",
      "=================================================================\n",
      " conv2d (Conv2D)             (None, 28, 28, 32)        896       \n",
      "                                                                 \n",
      " leaky_re_lu (LeakyReLU)     (None, 28, 28, 32)        0         \n",
      "                                                                 \n",
      " max_pooling2d (MaxPooling2  (None, 14, 14, 32)        0         \n",
      " D)                                                              \n",
      "                                                                 \n",
      " dropout (Dropout)           (None, 14, 14, 32)        0         \n",
      "                                                                 \n",
      " flatten (Flatten)           (None, 6272)              0         \n",
      "                                                                 \n",
      " dense (Dense)               (None, 32)                200736    \n",
      "                                                                 \n",
      " leaky_re_lu_1 (LeakyReLU)   (None, 32)                0         \n",
      "                                                                 \n",
      " dropout_1 (Dropout)         (None, 32)                0         \n",
      "                                                                 \n",
      " dense_1 (Dense)             (None, 5)                 165       \n",
      "                                                                 \n",
      "=================================================================\n",
      "Total params: 201797 (788.27 KB)\n",
      "Trainable params: 201797 (788.27 KB)\n",
      "Non-trainable params: 0 (0.00 Byte)\n",
      "_________________________________________________________________\n"
     ]
    }
   ],
   "source": [
    "sport_model.summary()"
   ]
  },
  {
   "cell_type": "code",
   "execution_count": 17,
   "metadata": {
    "ExecuteTime": {
     "end_time": "2018-11-08T00:16:51.472349Z",
     "start_time": "2018-11-08T00:16:51.406817Z"
    }
   },
   "outputs": [],
   "source": [
    "sport_model.compile(loss=keras.losses.categorical_crossentropy, optimizer=tf.keras.optimizers.legacy.SGD(learning_rate=INIT_LR, decay=INIT_LR / 100),metrics=['accuracy'])"
   ]
  },
  {
   "cell_type": "markdown",
   "metadata": {},
   "source": [
    "# Entrenamos el modelo: Aprende a clasificar imágenes"
   ]
  },
  {
   "cell_type": "code",
   "execution_count": 18,
   "metadata": {
    "ExecuteTime": {
     "end_time": "2018-11-08T00:20:49.562522Z",
     "start_time": "2018-11-08T00:16:51.474807Z"
    }
   },
   "outputs": [
    {
     "name": "stdout",
     "output_type": "stream",
     "text": [
      "Epoch 1/100\n",
      "WARNING:tensorflow:From C:\\Users\\daven\\anaconda3\\Lib\\site-packages\\keras\\src\\utils\\tf_utils.py:492: The name tf.ragged.RaggedTensorValue is deprecated. Please use tf.compat.v1.ragged.RaggedTensorValue instead.\n",
      "\n",
      "WARNING:tensorflow:From C:\\Users\\daven\\anaconda3\\Lib\\site-packages\\keras\\src\\engine\\base_layer_utils.py:384: The name tf.executing_eagerly_outside_functions is deprecated. Please use tf.compat.v1.executing_eagerly_outside_functions instead.\n",
      "\n",
      "927/927 [==============================] - 25s 25ms/step - loss: 1.5332 - accuracy: 0.3047 - val_loss: 1.4017 - val_accuracy: 0.4391\n",
      "Epoch 2/100\n",
      "927/927 [==============================] - 23s 25ms/step - loss: 1.3536 - accuracy: 0.4261 - val_loss: 1.1721 - val_accuracy: 0.5793\n",
      "Epoch 3/100\n",
      "927/927 [==============================] - 22s 24ms/step - loss: 1.1934 - accuracy: 0.5104 - val_loss: 1.0381 - val_accuracy: 0.6165\n",
      "Epoch 4/100\n",
      "927/927 [==============================] - 22s 24ms/step - loss: 1.0967 - accuracy: 0.5551 - val_loss: 0.9654 - val_accuracy: 0.6377\n",
      "Epoch 5/100\n",
      "927/927 [==============================] - 23s 24ms/step - loss: 1.0375 - accuracy: 0.5841 - val_loss: 0.9201 - val_accuracy: 0.6510\n",
      "Epoch 6/100\n",
      "927/927 [==============================] - 20s 22ms/step - loss: 0.9944 - accuracy: 0.6087 - val_loss: 0.8813 - val_accuracy: 0.6670\n",
      "Epoch 7/100\n",
      "927/927 [==============================] - 342s 369ms/step - loss: 0.9614 - accuracy: 0.6246 - val_loss: 0.8538 - val_accuracy: 0.6849\n",
      "Epoch 8/100\n",
      "927/927 [==============================] - 57s 61ms/step - loss: 0.9370 - accuracy: 0.6372 - val_loss: 0.8357 - val_accuracy: 0.6925\n",
      "Epoch 9/100\n",
      "927/927 [==============================] - 385s 416ms/step - loss: 0.9186 - accuracy: 0.6457 - val_loss: 0.8217 - val_accuracy: 0.6998\n",
      "Epoch 10/100\n",
      "927/927 [==============================] - 19s 20ms/step - loss: 0.8981 - accuracy: 0.6558 - val_loss: 0.8053 - val_accuracy: 0.7061\n",
      "Epoch 11/100\n",
      "927/927 [==============================] - 20s 22ms/step - loss: 0.8853 - accuracy: 0.6593 - val_loss: 0.7940 - val_accuracy: 0.7086\n",
      "Epoch 12/100\n",
      "927/927 [==============================] - 23s 25ms/step - loss: 0.8735 - accuracy: 0.6671 - val_loss: 0.7828 - val_accuracy: 0.7144\n",
      "Epoch 13/100\n",
      "927/927 [==============================] - 21s 23ms/step - loss: 0.8631 - accuracy: 0.6713 - val_loss: 0.7749 - val_accuracy: 0.7142\n",
      "Epoch 14/100\n",
      "927/927 [==============================] - 21s 23ms/step - loss: 0.8540 - accuracy: 0.6735 - val_loss: 0.7675 - val_accuracy: 0.7203\n",
      "Epoch 15/100\n",
      "927/927 [==============================] - 21s 23ms/step - loss: 0.8401 - accuracy: 0.6795 - val_loss: 0.7599 - val_accuracy: 0.7221\n",
      "Epoch 16/100\n",
      "927/927 [==============================] - 22s 24ms/step - loss: 0.8338 - accuracy: 0.6865 - val_loss: 0.7515 - val_accuracy: 0.7259\n",
      "Epoch 17/100\n",
      "927/927 [==============================] - 22s 23ms/step - loss: 0.8274 - accuracy: 0.6874 - val_loss: 0.7467 - val_accuracy: 0.7252\n",
      "Epoch 18/100\n",
      "927/927 [==============================] - 24s 26ms/step - loss: 0.8203 - accuracy: 0.6897 - val_loss: 0.7422 - val_accuracy: 0.7277\n",
      "Epoch 19/100\n",
      "927/927 [==============================] - 24s 25ms/step - loss: 0.8146 - accuracy: 0.6919 - val_loss: 0.7372 - val_accuracy: 0.7302\n",
      "Epoch 20/100\n",
      "927/927 [==============================] - 22s 23ms/step - loss: 0.8096 - accuracy: 0.6934 - val_loss: 0.7297 - val_accuracy: 0.7305\n",
      "Epoch 21/100\n",
      "927/927 [==============================] - 22s 24ms/step - loss: 0.8037 - accuracy: 0.6988 - val_loss: 0.7249 - val_accuracy: 0.7315\n",
      "Epoch 22/100\n",
      "927/927 [==============================] - 22s 24ms/step - loss: 0.7968 - accuracy: 0.7024 - val_loss: 0.7187 - val_accuracy: 0.7371\n",
      "Epoch 23/100\n",
      "927/927 [==============================] - 22s 23ms/step - loss: 0.7954 - accuracy: 0.7009 - val_loss: 0.7155 - val_accuracy: 0.7375\n",
      "Epoch 24/100\n",
      "927/927 [==============================] - 22s 24ms/step - loss: 0.7886 - accuracy: 0.7048 - val_loss: 0.7102 - val_accuracy: 0.7386\n",
      "Epoch 25/100\n",
      "927/927 [==============================] - 22s 24ms/step - loss: 0.7839 - accuracy: 0.7056 - val_loss: 0.7057 - val_accuracy: 0.7394\n",
      "Epoch 26/100\n",
      "927/927 [==============================] - 20s 21ms/step - loss: 0.7800 - accuracy: 0.7059 - val_loss: 0.7015 - val_accuracy: 0.7431\n",
      "Epoch 27/100\n",
      "927/927 [==============================] - 21s 23ms/step - loss: 0.7766 - accuracy: 0.7083 - val_loss: 0.6983 - val_accuracy: 0.7432\n",
      "Epoch 28/100\n",
      "927/927 [==============================] - 21s 23ms/step - loss: 0.7750 - accuracy: 0.7086 - val_loss: 0.6946 - val_accuracy: 0.7438\n",
      "Epoch 29/100\n",
      "927/927 [==============================] - 21s 23ms/step - loss: 0.7690 - accuracy: 0.7131 - val_loss: 0.6895 - val_accuracy: 0.7474\n",
      "Epoch 30/100\n",
      "927/927 [==============================] - 21s 23ms/step - loss: 0.7648 - accuracy: 0.7139 - val_loss: 0.6862 - val_accuracy: 0.7480\n",
      "Epoch 31/100\n",
      "927/927 [==============================] - 21s 23ms/step - loss: 0.7618 - accuracy: 0.7129 - val_loss: 0.6826 - val_accuracy: 0.7487\n",
      "Epoch 32/100\n",
      "927/927 [==============================] - 21s 23ms/step - loss: 0.7573 - accuracy: 0.7168 - val_loss: 0.6786 - val_accuracy: 0.7492\n",
      "Epoch 33/100\n",
      "927/927 [==============================] - 21s 23ms/step - loss: 0.7566 - accuracy: 0.7157 - val_loss: 0.6759 - val_accuracy: 0.7502\n",
      "Epoch 34/100\n",
      "927/927 [==============================] - 21s 23ms/step - loss: 0.7530 - accuracy: 0.7186 - val_loss: 0.6725 - val_accuracy: 0.7516\n",
      "Epoch 35/100\n",
      "927/927 [==============================] - 21s 23ms/step - loss: 0.7532 - accuracy: 0.7175 - val_loss: 0.6696 - val_accuracy: 0.7525\n",
      "Epoch 36/100\n",
      "927/927 [==============================] - 21s 23ms/step - loss: 0.7485 - accuracy: 0.7202 - val_loss: 0.6664 - val_accuracy: 0.7539\n",
      "Epoch 37/100\n",
      "927/927 [==============================] - 22s 24ms/step - loss: 0.7422 - accuracy: 0.7213 - val_loss: 0.6623 - val_accuracy: 0.7544\n",
      "Epoch 38/100\n",
      "927/927 [==============================] - 21s 23ms/step - loss: 0.7415 - accuracy: 0.7222 - val_loss: 0.6597 - val_accuracy: 0.7552\n",
      "Epoch 39/100\n",
      "927/927 [==============================] - 22s 23ms/step - loss: 0.7372 - accuracy: 0.7242 - val_loss: 0.6574 - val_accuracy: 0.7563\n",
      "Epoch 40/100\n",
      "927/927 [==============================] - 22s 23ms/step - loss: 0.7325 - accuracy: 0.7272 - val_loss: 0.6533 - val_accuracy: 0.7576\n",
      "Epoch 41/100\n",
      "927/927 [==============================] - 21s 22ms/step - loss: 0.7317 - accuracy: 0.7273 - val_loss: 0.6511 - val_accuracy: 0.7582\n",
      "Epoch 42/100\n",
      "927/927 [==============================] - 21s 23ms/step - loss: 0.7300 - accuracy: 0.7266 - val_loss: 0.6487 - val_accuracy: 0.7598\n",
      "Epoch 43/100\n",
      "927/927 [==============================] - 21s 23ms/step - loss: 0.7283 - accuracy: 0.7320 - val_loss: 0.6457 - val_accuracy: 0.7592\n",
      "Epoch 44/100\n",
      "927/927 [==============================] - 22s 23ms/step - loss: 0.7241 - accuracy: 0.7308 - val_loss: 0.6426 - val_accuracy: 0.7598\n",
      "Epoch 45/100\n",
      "927/927 [==============================] - 21s 23ms/step - loss: 0.7222 - accuracy: 0.7308 - val_loss: 0.6407 - val_accuracy: 0.7627\n",
      "Epoch 46/100\n",
      "927/927 [==============================] - 21s 23ms/step - loss: 0.7206 - accuracy: 0.7320 - val_loss: 0.6396 - val_accuracy: 0.7624\n",
      "Epoch 47/100\n",
      "927/927 [==============================] - 21s 22ms/step - loss: 0.7154 - accuracy: 0.7327 - val_loss: 0.6356 - val_accuracy: 0.7637\n",
      "Epoch 48/100\n",
      "927/927 [==============================] - 22s 24ms/step - loss: 0.7143 - accuracy: 0.7340 - val_loss: 0.6340 - val_accuracy: 0.7647\n",
      "Epoch 49/100\n",
      "927/927 [==============================] - 23s 25ms/step - loss: 0.7134 - accuracy: 0.7347 - val_loss: 0.6310 - val_accuracy: 0.7666\n",
      "Epoch 50/100\n",
      "927/927 [==============================] - 22s 24ms/step - loss: 0.7125 - accuracy: 0.7338 - val_loss: 0.6298 - val_accuracy: 0.7680\n",
      "Epoch 51/100\n",
      "927/927 [==============================] - 23s 24ms/step - loss: 0.7076 - accuracy: 0.7371 - val_loss: 0.6265 - val_accuracy: 0.7686\n",
      "Epoch 52/100\n",
      "927/927 [==============================] - 22s 24ms/step - loss: 0.7077 - accuracy: 0.7346 - val_loss: 0.6253 - val_accuracy: 0.7682\n",
      "Epoch 53/100\n",
      "927/927 [==============================] - 22s 24ms/step - loss: 0.7042 - accuracy: 0.7398 - val_loss: 0.6218 - val_accuracy: 0.7706\n",
      "Epoch 54/100\n"
     ]
    },
    {
     "name": "stdout",
     "output_type": "stream",
     "text": [
      "927/927 [==============================] - 22s 24ms/step - loss: 0.7009 - accuracy: 0.7369 - val_loss: 0.6207 - val_accuracy: 0.7695\n",
      "Epoch 55/100\n",
      "927/927 [==============================] - 22s 23ms/step - loss: 0.6999 - accuracy: 0.7394 - val_loss: 0.6181 - val_accuracy: 0.7746\n",
      "Epoch 56/100\n",
      "927/927 [==============================] - 21s 23ms/step - loss: 0.6974 - accuracy: 0.7396 - val_loss: 0.6156 - val_accuracy: 0.7730\n",
      "Epoch 57/100\n",
      "927/927 [==============================] - 21s 23ms/step - loss: 0.6951 - accuracy: 0.7410 - val_loss: 0.6132 - val_accuracy: 0.7742\n",
      "Epoch 58/100\n",
      "927/927 [==============================] - 21s 23ms/step - loss: 0.6938 - accuracy: 0.7408 - val_loss: 0.6111 - val_accuracy: 0.7752\n",
      "Epoch 59/100\n",
      "927/927 [==============================] - 21s 22ms/step - loss: 0.6918 - accuracy: 0.7405 - val_loss: 0.6096 - val_accuracy: 0.7756\n",
      "Epoch 60/100\n",
      "927/927 [==============================] - 21s 23ms/step - loss: 0.6887 - accuracy: 0.7433 - val_loss: 0.6095 - val_accuracy: 0.7767\n",
      "Epoch 61/100\n",
      "927/927 [==============================] - 21s 23ms/step - loss: 0.6901 - accuracy: 0.7441 - val_loss: 0.6061 - val_accuracy: 0.7762\n",
      "Epoch 62/100\n",
      "927/927 [==============================] - 21s 22ms/step - loss: 0.6858 - accuracy: 0.7434 - val_loss: 0.6029 - val_accuracy: 0.7789\n",
      "Epoch 63/100\n",
      "927/927 [==============================] - 21s 23ms/step - loss: 0.6885 - accuracy: 0.7437 - val_loss: 0.6014 - val_accuracy: 0.7786\n",
      "Epoch 64/100\n",
      "927/927 [==============================] - 22s 23ms/step - loss: 0.6870 - accuracy: 0.7441 - val_loss: 0.6015 - val_accuracy: 0.7804\n",
      "Epoch 65/100\n",
      "927/927 [==============================] - 21s 23ms/step - loss: 0.6801 - accuracy: 0.7478 - val_loss: 0.5973 - val_accuracy: 0.7814\n",
      "Epoch 66/100\n",
      "927/927 [==============================] - 22s 23ms/step - loss: 0.6801 - accuracy: 0.7463 - val_loss: 0.5954 - val_accuracy: 0.7822\n",
      "Epoch 67/100\n",
      "927/927 [==============================] - 20s 22ms/step - loss: 0.6792 - accuracy: 0.7476 - val_loss: 0.5931 - val_accuracy: 0.7833\n",
      "Epoch 68/100\n",
      "927/927 [==============================] - 21s 23ms/step - loss: 0.6754 - accuracy: 0.7482 - val_loss: 0.5926 - val_accuracy: 0.7835\n",
      "Epoch 69/100\n",
      "927/927 [==============================] - 21s 23ms/step - loss: 0.6753 - accuracy: 0.7479 - val_loss: 0.5903 - val_accuracy: 0.7838\n",
      "Epoch 70/100\n",
      "927/927 [==============================] - 21s 23ms/step - loss: 0.6724 - accuracy: 0.7483 - val_loss: 0.5877 - val_accuracy: 0.7857\n",
      "Epoch 71/100\n",
      "927/927 [==============================] - 22s 24ms/step - loss: 0.6693 - accuracy: 0.7492 - val_loss: 0.5872 - val_accuracy: 0.7857\n",
      "Epoch 72/100\n",
      "927/927 [==============================] - 22s 24ms/step - loss: 0.6665 - accuracy: 0.7510 - val_loss: 0.5851 - val_accuracy: 0.7858\n",
      "Epoch 73/100\n",
      "927/927 [==============================] - 21s 23ms/step - loss: 0.6679 - accuracy: 0.7512 - val_loss: 0.5830 - val_accuracy: 0.7857\n",
      "Epoch 74/100\n",
      "927/927 [==============================] - 22s 24ms/step - loss: 0.6631 - accuracy: 0.7531 - val_loss: 0.5800 - val_accuracy: 0.7883\n",
      "Epoch 75/100\n",
      "927/927 [==============================] - 21s 22ms/step - loss: 0.6657 - accuracy: 0.7532 - val_loss: 0.5800 - val_accuracy: 0.7876\n",
      "Epoch 76/100\n",
      "927/927 [==============================] - 21s 23ms/step - loss: 0.6610 - accuracy: 0.7557 - val_loss: 0.5770 - val_accuracy: 0.7900\n",
      "Epoch 77/100\n",
      "927/927 [==============================] - 21s 23ms/step - loss: 0.6620 - accuracy: 0.7544 - val_loss: 0.5750 - val_accuracy: 0.7891\n",
      "Epoch 78/100\n",
      "927/927 [==============================] - 22s 24ms/step - loss: 0.6610 - accuracy: 0.7533 - val_loss: 0.5752 - val_accuracy: 0.7898\n",
      "Epoch 79/100\n",
      "927/927 [==============================] - 22s 23ms/step - loss: 0.6563 - accuracy: 0.7575 - val_loss: 0.5714 - val_accuracy: 0.7913\n",
      "Epoch 80/100\n",
      "927/927 [==============================] - 23s 24ms/step - loss: 0.6587 - accuracy: 0.7546 - val_loss: 0.5700 - val_accuracy: 0.7939\n",
      "Epoch 81/100\n",
      "927/927 [==============================] - 22s 24ms/step - loss: 0.6558 - accuracy: 0.7563 - val_loss: 0.5678 - val_accuracy: 0.7924\n",
      "Epoch 82/100\n",
      "927/927 [==============================] - 21s 23ms/step - loss: 0.6558 - accuracy: 0.7571 - val_loss: 0.5670 - val_accuracy: 0.7944\n",
      "Epoch 83/100\n",
      "927/927 [==============================] - 21s 23ms/step - loss: 0.6525 - accuracy: 0.7590 - val_loss: 0.5650 - val_accuracy: 0.7937\n",
      "Epoch 84/100\n",
      "927/927 [==============================] - 21s 23ms/step - loss: 0.6540 - accuracy: 0.7586 - val_loss: 0.5630 - val_accuracy: 0.7955\n",
      "Epoch 85/100\n",
      "927/927 [==============================] - 21s 22ms/step - loss: 0.6516 - accuracy: 0.7588 - val_loss: 0.5633 - val_accuracy: 0.7959\n",
      "Epoch 86/100\n",
      "927/927 [==============================] - 21s 23ms/step - loss: 0.6475 - accuracy: 0.7582 - val_loss: 0.5623 - val_accuracy: 0.7961\n",
      "Epoch 87/100\n",
      "927/927 [==============================] - 21s 23ms/step - loss: 0.6456 - accuracy: 0.7597 - val_loss: 0.5601 - val_accuracy: 0.7973\n",
      "Epoch 88/100\n",
      "927/927 [==============================] - 22s 23ms/step - loss: 0.6435 - accuracy: 0.7629 - val_loss: 0.5578 - val_accuracy: 0.7966\n",
      "Epoch 89/100\n",
      "927/927 [==============================] - 21s 23ms/step - loss: 0.6415 - accuracy: 0.7622 - val_loss: 0.5547 - val_accuracy: 0.7985\n",
      "Epoch 90/100\n",
      "927/927 [==============================] - 21s 23ms/step - loss: 0.6434 - accuracy: 0.7626 - val_loss: 0.5542 - val_accuracy: 0.7986\n",
      "Epoch 91/100\n",
      "927/927 [==============================] - 21s 23ms/step - loss: 0.6375 - accuracy: 0.7615 - val_loss: 0.5535 - val_accuracy: 0.7989\n",
      "Epoch 92/100\n",
      "927/927 [==============================] - 22s 24ms/step - loss: 0.6407 - accuracy: 0.7632 - val_loss: 0.5504 - val_accuracy: 0.7999\n",
      "Epoch 93/100\n",
      "927/927 [==============================] - 23s 24ms/step - loss: 0.6388 - accuracy: 0.7641 - val_loss: 0.5492 - val_accuracy: 0.8002\n",
      "Epoch 94/100\n",
      "927/927 [==============================] - 21s 23ms/step - loss: 0.6364 - accuracy: 0.7622 - val_loss: 0.5479 - val_accuracy: 0.8016\n",
      "Epoch 95/100\n",
      "927/927 [==============================] - 21s 23ms/step - loss: 0.6354 - accuracy: 0.7649 - val_loss: 0.5460 - val_accuracy: 0.8018\n",
      "Epoch 96/100\n",
      "927/927 [==============================] - 21s 22ms/step - loss: 0.6319 - accuracy: 0.7670 - val_loss: 0.5441 - val_accuracy: 0.8028\n",
      "Epoch 97/100\n",
      "927/927 [==============================] - 21s 23ms/step - loss: 0.6342 - accuracy: 0.7639 - val_loss: 0.5443 - val_accuracy: 0.8033\n",
      "Epoch 98/100\n",
      "927/927 [==============================] - 21s 23ms/step - loss: 0.6294 - accuracy: 0.7673 - val_loss: 0.5432 - val_accuracy: 0.8032\n",
      "Epoch 99/100\n",
      "927/927 [==============================] - 21s 22ms/step - loss: 0.6279 - accuracy: 0.7653 - val_loss: 0.5394 - val_accuracy: 0.8045\n",
      "Epoch 100/100\n",
      "927/927 [==============================] - 21s 22ms/step - loss: 0.6255 - accuracy: 0.7685 - val_loss: 0.5375 - val_accuracy: 0.8057\n"
     ]
    }
   ],
   "source": [
    "# este paso puede tomar varios minutos, dependiendo de tu ordenador, cpu y memoria ram libre\n",
    "sport_train = sport_model.fit(train_X, train_label, batch_size=batch_size,epochs=epochs,verbose=1,validation_data=(valid_X, valid_label))"
   ]
  },
  {
   "cell_type": "code",
   "execution_count": 19,
   "metadata": {
    "ExecuteTime": {
     "end_time": "2018-11-08T00:20:49.676566Z",
     "start_time": "2018-11-08T00:20:49.566203Z"
    }
   },
   "outputs": [
    {
     "name": "stdout",
     "output_type": "stream",
     "text": [
      "INFO:tensorflow:Assets written to: ./flowers-Z.h5py\\assets\n"
     ]
    },
    {
     "name": "stderr",
     "output_type": "stream",
     "text": [
      "INFO:tensorflow:Assets written to: ./flowers-Z.h5py\\assets\n"
     ]
    }
   ],
   "source": [
    "# guardamos la red, para reutilizarla en el futuro, sin tener que volver a entrenar\n",
    "sport_model.save(\"./flowers-Z.h5py\")"
   ]
  },
  {
   "cell_type": "markdown",
   "metadata": {},
   "source": [
    "# Evaluamos la red"
   ]
  },
  {
   "cell_type": "code",
   "execution_count": 20,
   "metadata": {
    "ExecuteTime": {
     "end_time": "2018-11-08T00:20:54.462929Z",
     "start_time": "2018-11-08T00:20:49.678643Z"
    }
   },
   "outputs": [
    {
     "name": "stdout",
     "output_type": "stream",
     "text": [
      "453/453 [==============================] - 3s 6ms/step - loss: 0.5331 - accuracy: 0.8069\n"
     ]
    }
   ],
   "source": [
    "test_eval = sport_model.evaluate(test_X, test_Y_one_hot, verbose=1)"
   ]
  },
  {
   "cell_type": "code",
   "execution_count": 21,
   "metadata": {
    "ExecuteTime": {
     "end_time": "2018-11-08T00:20:54.474683Z",
     "start_time": "2018-11-08T00:20:54.465378Z"
    }
   },
   "outputs": [
    {
     "name": "stdout",
     "output_type": "stream",
     "text": [
      "Test loss: 0.5331022143363953\n",
      "Test accuracy: 0.8069061040878296\n"
     ]
    }
   ],
   "source": [
    "print('Test loss:', test_eval[0])\n",
    "print('Test accuracy:', test_eval[1])"
   ]
  },
  {
   "cell_type": "code",
   "execution_count": 22,
   "metadata": {},
   "outputs": [
    {
     "data": {
      "text/plain": [
       "{'loss': [1.5331916809082031,\n",
       "  1.3536404371261597,\n",
       "  1.1934337615966797,\n",
       "  1.096656322479248,\n",
       "  1.0374691486358643,\n",
       "  0.9944425225257874,\n",
       "  0.9614498615264893,\n",
       "  0.9370350241661072,\n",
       "  0.9186072945594788,\n",
       "  0.8981098532676697,\n",
       "  0.885310709476471,\n",
       "  0.8735491037368774,\n",
       "  0.8631121516227722,\n",
       "  0.8539860844612122,\n",
       "  0.8400887250900269,\n",
       "  0.8338133692741394,\n",
       "  0.8273587822914124,\n",
       "  0.820267379283905,\n",
       "  0.8146005868911743,\n",
       "  0.8096045255661011,\n",
       "  0.8036720752716064,\n",
       "  0.7967983484268188,\n",
       "  0.7954479455947876,\n",
       "  0.788624107837677,\n",
       "  0.7839127779006958,\n",
       "  0.7800438404083252,\n",
       "  0.77655029296875,\n",
       "  0.7749688029289246,\n",
       "  0.7690319418907166,\n",
       "  0.764799177646637,\n",
       "  0.7617641091346741,\n",
       "  0.7572697401046753,\n",
       "  0.7566283941268921,\n",
       "  0.7530494332313538,\n",
       "  0.7531501650810242,\n",
       "  0.7484895586967468,\n",
       "  0.7421939969062805,\n",
       "  0.7414902448654175,\n",
       "  0.7371712923049927,\n",
       "  0.7325380444526672,\n",
       "  0.7317063212394714,\n",
       "  0.7299789786338806,\n",
       "  0.7282626032829285,\n",
       "  0.7241456508636475,\n",
       "  0.7222423553466797,\n",
       "  0.7206487655639648,\n",
       "  0.7153764367103577,\n",
       "  0.7143059968948364,\n",
       "  0.7133529186248779,\n",
       "  0.7124768495559692,\n",
       "  0.7076205611228943,\n",
       "  0.7076712250709534,\n",
       "  0.7042115926742554,\n",
       "  0.7009455561637878,\n",
       "  0.6998795866966248,\n",
       "  0.6974160671234131,\n",
       "  0.6950597167015076,\n",
       "  0.6938268542289734,\n",
       "  0.6917595267295837,\n",
       "  0.6886998414993286,\n",
       "  0.6901269555091858,\n",
       "  0.6858187913894653,\n",
       "  0.68854820728302,\n",
       "  0.686983585357666,\n",
       "  0.6801080107688904,\n",
       "  0.6801019310951233,\n",
       "  0.6791971921920776,\n",
       "  0.6753869652748108,\n",
       "  0.6753235459327698,\n",
       "  0.6723951101303101,\n",
       "  0.6692917346954346,\n",
       "  0.666516125202179,\n",
       "  0.6679331064224243,\n",
       "  0.6631399989128113,\n",
       "  0.6656762957572937,\n",
       "  0.6609690189361572,\n",
       "  0.662045955657959,\n",
       "  0.6609612703323364,\n",
       "  0.6562551856040955,\n",
       "  0.6586987972259521,\n",
       "  0.6557751297950745,\n",
       "  0.6557855606079102,\n",
       "  0.6524950265884399,\n",
       "  0.6539645791053772,\n",
       "  0.6515649557113647,\n",
       "  0.6474757790565491,\n",
       "  0.645630419254303,\n",
       "  0.643530547618866,\n",
       "  0.64149010181427,\n",
       "  0.6434493064880371,\n",
       "  0.6374793648719788,\n",
       "  0.6407029628753662,\n",
       "  0.6387926340103149,\n",
       "  0.6363612413406372,\n",
       "  0.6353690028190613,\n",
       "  0.6318693161010742,\n",
       "  0.6341755390167236,\n",
       "  0.6294194459915161,\n",
       "  0.6278977394104004,\n",
       "  0.625486433506012],\n",
       " 'accuracy': [0.30469220876693726,\n",
       "  0.42614176869392395,\n",
       "  0.5104031562805176,\n",
       "  0.5551022887229919,\n",
       "  0.5841318964958191,\n",
       "  0.6086937785148621,\n",
       "  0.624579131603241,\n",
       "  0.6371622085571289,\n",
       "  0.6456660628318787,\n",
       "  0.6558318138122559,\n",
       "  0.6593283414840698,\n",
       "  0.667098343372345,\n",
       "  0.6712855100631714,\n",
       "  0.6734654307365417,\n",
       "  0.6795087456703186,\n",
       "  0.6864585876464844,\n",
       "  0.6873651146888733,\n",
       "  0.6896744966506958,\n",
       "  0.691919207572937,\n",
       "  0.6933868527412415,\n",
       "  0.6988042593002319,\n",
       "  0.7024303078651428,\n",
       "  0.7008547186851501,\n",
       "  0.7048476338386536,\n",
       "  0.7056030631065369,\n",
       "  0.7058620452880859,\n",
       "  0.7082793712615967,\n",
       "  0.708646297454834,\n",
       "  0.7130924463272095,\n",
       "  0.7138910293579102,\n",
       "  0.7129197716712952,\n",
       "  0.7167832255363464,\n",
       "  0.7156824469566345,\n",
       "  0.7186177968978882,\n",
       "  0.7174954414367676,\n",
       "  0.7201718091964722,\n",
       "  0.7213373184204102,\n",
       "  0.7222437858581543,\n",
       "  0.724207878112793,\n",
       "  0.7272295355796814,\n",
       "  0.7273159027099609,\n",
       "  0.7265604734420776,\n",
       "  0.7319563031196594,\n",
       "  0.7307692170143127,\n",
       "  0.7308123707771301,\n",
       "  0.7320210933685303,\n",
       "  0.7327117323875427,\n",
       "  0.7340283393859863,\n",
       "  0.7347189784049988,\n",
       "  0.7338340878486633,\n",
       "  0.7371363043785095,\n",
       "  0.7346110939979553,\n",
       "  0.7398126721382141,\n",
       "  0.7369420528411865,\n",
       "  0.7393593788146973,\n",
       "  0.7396399974822998,\n",
       "  0.7410213351249695,\n",
       "  0.7408486604690552,\n",
       "  0.7404601573944092,\n",
       "  0.7433091402053833,\n",
       "  0.7440861463546753,\n",
       "  0.7434386610984802,\n",
       "  0.743719220161438,\n",
       "  0.744107723236084,\n",
       "  0.7477769255638123,\n",
       "  0.7462876439094543,\n",
       "  0.7476474046707153,\n",
       "  0.7482085824012756,\n",
       "  0.7479280233383179,\n",
       "  0.748251736164093,\n",
       "  0.7492445707321167,\n",
       "  0.7510144114494324,\n",
       "  0.751165509223938,\n",
       "  0.7531296014785767,\n",
       "  0.7531511783599854,\n",
       "  0.7557196021080017,\n",
       "  0.7543814182281494,\n",
       "  0.753302276134491,\n",
       "  0.7574678659439087,\n",
       "  0.7545540928840637,\n",
       "  0.7562591433525085,\n",
       "  0.7570793628692627,\n",
       "  0.7589570879936218,\n",
       "  0.7586333155632019,\n",
       "  0.7588059902191162,\n",
       "  0.7582232356071472,\n",
       "  0.7596909403800964,\n",
       "  0.7629284262657166,\n",
       "  0.7622161507606506,\n",
       "  0.7625830769538879,\n",
       "  0.7615039348602295,\n",
       "  0.7632089853286743,\n",
       "  0.7640939354896545,\n",
       "  0.7622161507606506,\n",
       "  0.7649356722831726,\n",
       "  0.7670292854309082,\n",
       "  0.7638781070709229,\n",
       "  0.767309844493866,\n",
       "  0.7653457522392273,\n",
       "  0.7684537768363953],\n",
       " 'val_loss': [1.4017406702041626,\n",
       "  1.1721148490905762,\n",
       "  1.0380711555480957,\n",
       "  0.9654043912887573,\n",
       "  0.920082151889801,\n",
       "  0.8813480734825134,\n",
       "  0.8538466691970825,\n",
       "  0.8356761336326599,\n",
       "  0.821651816368103,\n",
       "  0.8053337931632996,\n",
       "  0.7940144538879395,\n",
       "  0.7827985286712646,\n",
       "  0.7749022841453552,\n",
       "  0.7675241827964783,\n",
       "  0.7599273324012756,\n",
       "  0.7515485286712646,\n",
       "  0.7466832995414734,\n",
       "  0.74221271276474,\n",
       "  0.7371557354927063,\n",
       "  0.7296525239944458,\n",
       "  0.7248589992523193,\n",
       "  0.7187103033065796,\n",
       "  0.7154515981674194,\n",
       "  0.7101559042930603,\n",
       "  0.7056660652160645,\n",
       "  0.7015281915664673,\n",
       "  0.6983182430267334,\n",
       "  0.6945540904998779,\n",
       "  0.6895055174827576,\n",
       "  0.6862283945083618,\n",
       "  0.6825896501541138,\n",
       "  0.6785974502563477,\n",
       "  0.6758836507797241,\n",
       "  0.6724798083305359,\n",
       "  0.6695516705513,\n",
       "  0.6663544178009033,\n",
       "  0.6622521281242371,\n",
       "  0.6596792340278625,\n",
       "  0.6573792099952698,\n",
       "  0.6533039808273315,\n",
       "  0.6510807871818542,\n",
       "  0.648654580116272,\n",
       "  0.6457241177558899,\n",
       "  0.6425968408584595,\n",
       "  0.6407395601272583,\n",
       "  0.63962322473526,\n",
       "  0.6355899572372437,\n",
       "  0.6340456008911133,\n",
       "  0.6309641599655151,\n",
       "  0.6298099160194397,\n",
       "  0.6264870166778564,\n",
       "  0.6252665519714355,\n",
       "  0.6217665672302246,\n",
       "  0.6206974983215332,\n",
       "  0.6181269884109497,\n",
       "  0.6155740022659302,\n",
       "  0.6131756901741028,\n",
       "  0.6110756397247314,\n",
       "  0.6096130013465881,\n",
       "  0.6094666123390198,\n",
       "  0.606116533279419,\n",
       "  0.6028649806976318,\n",
       "  0.6014477014541626,\n",
       "  0.6015059947967529,\n",
       "  0.5973483920097351,\n",
       "  0.5954135656356812,\n",
       "  0.5930683612823486,\n",
       "  0.5926353335380554,\n",
       "  0.5903292894363403,\n",
       "  0.5876933336257935,\n",
       "  0.5871500372886658,\n",
       "  0.5851438045501709,\n",
       "  0.5829862356185913,\n",
       "  0.5800090432167053,\n",
       "  0.5799999833106995,\n",
       "  0.5769587159156799,\n",
       "  0.5749605894088745,\n",
       "  0.5751942992210388,\n",
       "  0.571408212184906,\n",
       "  0.569966733455658,\n",
       "  0.5677715539932251,\n",
       "  0.5670411586761475,\n",
       "  0.564978837966919,\n",
       "  0.5630453824996948,\n",
       "  0.5633357763290405,\n",
       "  0.562308669090271,\n",
       "  0.5600775480270386,\n",
       "  0.5578307509422302,\n",
       "  0.5547308921813965,\n",
       "  0.5541965365409851,\n",
       "  0.5534563064575195,\n",
       "  0.5504322648048401,\n",
       "  0.5492414832115173,\n",
       "  0.5479151010513306,\n",
       "  0.5460429191589355,\n",
       "  0.5441336035728455,\n",
       "  0.5442634224891663,\n",
       "  0.5431563258171082,\n",
       "  0.5394489765167236,\n",
       "  0.5375044941902161],\n",
       " 'val_accuracy': [0.43905386328697205,\n",
       "  0.5793335437774658,\n",
       "  0.6165400743484497,\n",
       "  0.6376898884773254,\n",
       "  0.6509841084480286,\n",
       "  0.6670407652854919,\n",
       "  0.684910237789154,\n",
       "  0.6925069093704224,\n",
       "  0.6997582912445068,\n",
       "  0.7061464190483093,\n",
       "  0.708563506603241,\n",
       "  0.7144337296485901,\n",
       "  0.714174747467041,\n",
       "  0.7203038930892944,\n",
       "  0.7221167087554932,\n",
       "  0.7259150743484497,\n",
       "  0.7252244353294373,\n",
       "  0.7277278900146484,\n",
       "  0.7302313446998596,\n",
       "  0.7304903268814087,\n",
       "  0.731526255607605,\n",
       "  0.7371374368667603,\n",
       "  0.7374827265739441,\n",
       "  0.7386049628257751,\n",
       "  0.7393819093704224,\n",
       "  0.7430939078330994,\n",
       "  0.7431802749633789,\n",
       "  0.7437845468521118,\n",
       "  0.747410237789154,\n",
       "  0.748014509677887,\n",
       "  0.7487050890922546,\n",
       "  0.7492230534553528,\n",
       "  0.7501726746559143,\n",
       "  0.7516402006149292,\n",
       "  0.7525034546852112,\n",
       "  0.7538846731185913,\n",
       "  0.7544026374816895,\n",
       "  0.7551795840263367,\n",
       "  0.7563018202781677,\n",
       "  0.7575966715812683,\n",
       "  0.7582009434700012,\n",
       "  0.7597548365592957,\n",
       "  0.7592368721961975,\n",
       "  0.7597548365592957,\n",
       "  0.7626898884773254,\n",
       "  0.7624309659004211,\n",
       "  0.7637258172035217,\n",
       "  0.7646754384040833,\n",
       "  0.7665745615959167,\n",
       "  0.7680421471595764,\n",
       "  0.7686464190483093,\n",
       "  0.768214762210846,\n",
       "  0.7706319093704224,\n",
       "  0.7695096731185913,\n",
       "  0.7746028900146484,\n",
       "  0.7730490565299988,\n",
       "  0.7741712927818298,\n",
       "  0.7752071619033813,\n",
       "  0.77555251121521,\n",
       "  0.776674747467041,\n",
       "  0.7762430906295776,\n",
       "  0.7789192199707031,\n",
       "  0.7785738706588745,\n",
       "  0.780386745929718,\n",
       "  0.7814226746559143,\n",
       "  0.7821995615959167,\n",
       "  0.7833217978477478,\n",
       "  0.7834944725036621,\n",
       "  0.783839762210846,\n",
       "  0.7856526374816895,\n",
       "  0.7857389450073242,\n",
       "  0.785825252532959,\n",
       "  0.7857389450073242,\n",
       "  0.7883287072181702,\n",
       "  0.7876381278038025,\n",
       "  0.7899689078330994,\n",
       "  0.7891056537628174,\n",
       "  0.7897962927818298,\n",
       "  0.7912638187408447,\n",
       "  0.7939398884773254,\n",
       "  0.7923860549926758,\n",
       "  0.7943715453147888,\n",
       "  0.7936809659004211,\n",
       "  0.7954937815666199,\n",
       "  0.7959254384040833,\n",
       "  0.7960980534553528,\n",
       "  0.7973066568374634,\n",
       "  0.7966160178184509,\n",
       "  0.7985152006149292,\n",
       "  0.798601508140564,\n",
       "  0.798860490322113,\n",
       "  0.7998964190483093,\n",
       "  0.8002417087554932,\n",
       "  0.8016229271888733,\n",
       "  0.8017956018447876,\n",
       "  0.8028314709663391,\n",
       "  0.8032631278038025,\n",
       "  0.8031768202781677,\n",
       "  0.8044716715812683,\n",
       "  0.8056802749633789]}"
      ]
     },
     "execution_count": 22,
     "metadata": {},
     "output_type": "execute_result"
    }
   ],
   "source": [
    "sport_train.history"
   ]
  },
  {
   "cell_type": "code",
   "execution_count": 23,
   "metadata": {
    "ExecuteTime": {
     "end_time": "2018-11-08T00:20:55.014647Z",
     "start_time": "2018-11-08T00:20:54.479693Z"
    },
    "scrolled": false
   },
   "outputs": [
    {
     "data": {
      "image/png": "[encoded data removed]",
      "text/plain": [
       "<Figure size 640x480 with 1 Axes>"
      ]
     },
     "metadata": {},
     "output_type": "display_data"
    },
    {
     "data": {
      "image/png": "[encoded data removed]",
      "text/plain": [
       "<Figure size 640x480 with 1 Axes>"
      ]
     },
     "metadata": {},
     "output_type": "display_data"
    }
   ],
   "source": [
    "accuracy = sport_train.history['accuracy']\n",
    "val_accuracy = sport_train.history['val_accuracy']\n",
    "loss = sport_train.history['loss']\n",
    "val_loss = sport_train.history['val_loss']\n",
    "epochs = range(len(accuracy))\n",
    "plt.plot(epochs, accuracy, 'bo', label='Training accuracy')\n",
    "plt.plot(epochs, val_accuracy, 'b', label='Validation accuracy')\n",
    "plt.title('Training and validation accuracy')\n",
    "plt.legend()\n",
    "plt.figure()\n",
    "plt.plot(epochs, loss, 'bo', label='Training loss')\n",
    "plt.plot(epochs, val_loss, 'b', label='Validation loss')\n",
    "plt.title('Training and validation loss')\n",
    "plt.legend()\n",
    "plt.show()"
   ]
  },
  {
   "cell_type": "code",
   "execution_count": 24,
   "metadata": {
    "ExecuteTime": {
     "end_time": "2018-11-08T00:20:58.050602Z",
     "start_time": "2018-11-08T00:20:55.021862Z"
    }
   },
   "outputs": [
    {
     "name": "stdout",
     "output_type": "stream",
     "text": [
      "453/453 [==============================] - 3s 6ms/step\n"
     ]
    }
   ],
   "source": [
    "predicted_classes2 = sport_model.predict(test_X)"
   ]
  },
  {
   "cell_type": "code",
   "execution_count": 25,
   "metadata": {
    "ExecuteTime": {
     "end_time": "2018-11-08T00:20:58.262575Z",
     "start_time": "2018-11-08T00:20:58.052878Z"
    }
   },
   "outputs": [],
   "source": [
    "predicted_classes=[]\n",
    "for predicted_sport in predicted_classes2:\n",
    "    predicted_classes.append(predicted_sport.tolist().index(max(predicted_sport)))\n",
    "predicted_classes=np.array(predicted_classes)"
   ]
  },
  {
   "cell_type": "code",
   "execution_count": 26,
   "metadata": {
    "ExecuteTime": {
     "end_time": "2018-11-08T00:20:58.272559Z",
     "start_time": "2018-11-08T00:20:58.264703Z"
    }
   },
   "outputs": [
    {
     "data": {
      "text/plain": [
       "((14480,), (14480,))"
      ]
     },
     "execution_count": 26,
     "metadata": {},
     "output_type": "execute_result"
    }
   ],
   "source": [
    "predicted_classes.shape, test_Y.shape"
   ]
  },
  {
   "cell_type": "markdown",
   "metadata": {},
   "source": [
    "# Aprendamos de los errores: Qué mejorar"
   ]
  },
  {
   "cell_type": "code",
   "execution_count": 27,
   "metadata": {
    "ExecuteTime": {
     "end_time": "2018-11-08T00:20:59.822110Z",
     "start_time": "2018-11-08T00:20:58.275464Z"
    }
   },
   "outputs": [
    {
     "name": "stdout",
     "output_type": "stream",
     "text": [
      "Found 11684 correct labels\n"
     ]
    },
    {
     "name": "stderr",
     "output_type": "stream",
     "text": [
      "C:\\Users\\daven\\AppData\\Local\\Temp\\ipykernel_2412\\2312090548.py:4: MatplotlibDeprecationWarning: Auto-removal of overlapping axes is deprecated since 3.6 and will be removed two minor releases later; explicitly call ax.remove() as needed.\n",
      "  plt.subplot(3,3,i+1)\n"
     ]
    },
    {
     "data": {
      "image/png": "[encoded data removed]",
      "text/plain": [
       "<Figure size 640x480 with 8 Axes>"
      ]
     },
     "metadata": {},
     "output_type": "display_data"
    }
   ],
   "source": [
    "correct = np.where(predicted_classes==test_Y)[0]\n",
    "print(\"Found %d correct labels\" % len(correct))\n",
    "for i, correct in enumerate(correct[0:9]):\n",
    "    plt.subplot(3,3,i+1)\n",
    "    plt.imshow(test_X[correct].reshape(28,28,3), cmap='gray', interpolation='none')\n",
    "    plt.title(\"{}, {}\".format(deportes[predicted_classes[correct]],\n",
    "                                                    deportes[test_Y[correct]]))\n",
    "\n",
    "    plt.tight_layout()"
   ]
  },
  {
   "cell_type": "code",
   "execution_count": 28,
   "metadata": {
    "ExecuteTime": {
     "end_time": "2018-11-08T00:21:00.942267Z",
     "start_time": "2018-11-08T00:20:59.829572Z"
    }
   },
   "outputs": [
    {
     "name": "stdout",
     "output_type": "stream",
     "text": [
      "Found 2796 incorrect labels\n"
     ]
    },
    {
     "name": "stderr",
     "output_type": "stream",
     "text": [
      "C:\\Users\\daven\\AppData\\Local\\Temp\\ipykernel_2412\\1639673630.py:4: MatplotlibDeprecationWarning: Auto-removal of overlapping axes is deprecated since 3.6 and will be removed two minor releases later; explicitly call ax.remove() as needed.\n",
      "  plt.subplot(3,3,i+1)\n"
     ]
    },
    {
     "data": {
      "image/png": "[encoded data removed]",
      "text/plain": [
       "<Figure size 640x480 with 8 Axes>"
      ]
     },
     "metadata": {},
     "output_type": "display_data"
    }
   ],
   "source": [
    "incorrect = np.where(predicted_classes!=test_Y)[0]\n",
    "print(\"Found %d incorrect labels\" % len(incorrect))\n",
    "for i, incorrect in enumerate(incorrect[0:9]):\n",
    "    plt.subplot(3,3,i+1)\n",
    "    plt.imshow(test_X[incorrect].reshape(28,28,3), cmap='gray', interpolation='none')\n",
    "    plt.title(\"{}, {}\".format(deportes[predicted_classes[incorrect]],\n",
    "                                                    deportes[test_Y[incorrect]]))\n",
    "    plt.tight_layout()"
   ]
  },
  {
   "cell_type": "code",
   "execution_count": 29,
   "metadata": {
    "ExecuteTime": {
     "end_time": "2018-11-08T00:21:00.968727Z",
     "start_time": "2018-11-08T00:21:00.947262Z"
    },
    "scrolled": true
   },
   "outputs": [
    {
     "name": "stdout",
     "output_type": "stream",
     "text": [
      "              precision    recall  f1-score   support\n",
      "\n",
      "     Class 0       0.69      0.69      0.69      1767\n",
      "     Class 1       0.91      0.90      0.90      2523\n",
      "     Class 2       0.74      0.75      0.75      3413\n",
      "     Class 3       0.90      0.96      0.93      3443\n",
      "     Class 4       0.76      0.70      0.73      3334\n",
      "\n",
      "    accuracy                           0.81     14480\n",
      "   macro avg       0.80      0.80      0.80     14480\n",
      "weighted avg       0.80      0.81      0.81     14480\n",
      "\n"
     ]
    }
   ],
   "source": [
    "target_names = [\"Class {}\".format(i) for i in range(nClasses)]\n",
    "print(classification_report(test_Y, predicted_classes, target_names=target_names))"
   ]
  },
  {
   "cell_type": "code",
   "execution_count": 54,
   "metadata": {},
   "outputs": [
    {
     "name": "stdout",
     "output_type": "stream",
     "text": [
      "1/1 [==============================] - 0s 47ms/step\n",
      "./test\\iris1.jpg iris\n"
     ]
    }
   ],
   "source": [
    "from skimage.transform import resize\n",
    "\n",
    "images=[]\n",
    "# AQUI ESPECIFICAMOS UNAS IMAGENES\n",
    "filenames = ['./test\\\\iris1.jpg']\n",
    "\n",
    "for filepath in filenames:\n",
    "    image = plt.imread(filepath,0)\n",
    "    image_resized = resize(image, (28, 28),anti_aliasing=True,clip=False,preserve_range=True)\n",
    "    images.append(image_resized)\n",
    "\n",
    "X = np.array(images, dtype=np.uint8) #convierto de lista a numpy\n",
    "test_X = X.astype('float32')\n",
    "test_X = test_X / 255.\n",
    "\n",
    "predicted_classes = sport_model.predict(test_X)\n",
    "\n",
    "for i, img_tagged in enumerate(predicted_classes):\n",
    "    print(filenames[i], deportes[img_tagged.tolist().index(max(img_tagged))])"
   ]
  },
  {
   "cell_type": "code",
   "execution_count": null,
   "metadata": {},
   "outputs": [],
   "source": []
  }
 ],
 "metadata": {
  "kernelspec": {
   "display_name": "Python 3 (ipykernel)",
   "language": "python",
   "name": "python3"
  },
  "language_info": {
   "codemirror_mode": {
    "name": "ipython",
    "version": 3
   },
   "file_extension": ".py",
   "mimetype": "text/x-python",
   "name": "python",
   "nbconvert_exporter": "python",
   "pygments_lexer": "ipython3",
   "version": "3.11.4"
  }
 },
 "nbformat": 4,
 "nbformat_minor": 2
}
