{
 "cells": [
  {
   "cell_type": "markdown",
   "id": "7bb31689",
   "metadata": {},
   "source": [
    "# Codio para generar dataset\n",
    "Con la ayuda de un video, generaremos imágenes suficientes para crear un dataset con las siguientes caracteristicas\n",
    "* Imágenes de 28 x 28\n",
    "* Imágnes en escala de grises"
   ]
  },
  {
   "cell_type": "code",
   "execution_count": 20,
   "id": "f723d2bf",
   "metadata": {},
   "outputs": [],
   "source": [
    "import cv2\n",
    "import os\n",
    "\n",
    "def leer_video_guardar_caras(ruta_video, cascada_cara, ruta_destino):\n",
    "    # Cargar el clasificador HaarCascade para la detección de caras\n",
    "    face_cascade = cv2.CascadeClassifier(cascada_cara)\n",
    "\n",
    "    # Abre el archivo de video\n",
    "    cap = cv2.VideoCapture(ruta_video)\n",
    "\n",
    "    # Verifica si el archivo de video se abrió correctamente\n",
    "    if not cap.isOpened():\n",
    "        print(\"Error al abrir el archivo de video.\")\n",
    "        return\n",
    "\n",
    "    # Crea el directorio de destino si no existe\n",
    "    if not os.path.exists(ruta_destino):\n",
    "        os.makedirs(ruta_destino)\n",
    "\n",
    "    # Contador para nombrar las imágenes guardadas\n",
    "    contador = 5070\n",
    "\n",
    "    # Itera sobre los fotogramas del video\n",
    "    while True:\n",
    "        # Lee el fotograma actual\n",
    "        ret, fotograma = cap.read()\n",
    "\n",
    "        # Verifica si se alcanzó el final del video\n",
    "        if not ret:\n",
    "            break\n",
    "\n",
    "        # Convierte la imagen a escala de grises\n",
    "        gris = cv2.cvtColor(fotograma, cv2.COLOR_BGR2GRAY)\n",
    "\n",
    "        # Detecta caras en la imagen\n",
    "        caras = face_cascade.detectMultiScale(gris, scaleFactor=1.1, minNeighbors=5, minSize=(30, 30))\n",
    "\n",
    "        # Itera sobre las caras detectadas\n",
    "        for (x, y, w, h) in caras:\n",
    "            # Recorta la región de la cara\n",
    "            cara_recortada = gris[y:y+h, x:x+w]\n",
    "\n",
    "            # Redimensiona la cara a 28x28 píxeles\n",
    "            cara_redimensionada = cv2.resize(cara_recortada, (28, 28))\n",
    "\n",
    "            # Guarda la cara redimensionada en la ruta de destino\n",
    "            ruta_guardado = os.path.join(ruta_destino, f\"cara_{contador}.png\")\n",
    "            cv2.imwrite(ruta_guardado, cara_redimensionada)\n",
    "\n",
    "            # Incrementa el contador\n",
    "            contador += 1\n",
    "\n",
    "        # Muestra el fotograma con las caras detectadas\n",
    "        cv2.imshow('Detección y Guardado de Caras', fotograma)\n",
    "\n",
    "        # Espera 25 milisegundos y verifica si se presiona la tecla 'q' para salir\n",
    "        if cv2.waitKey(25) & 0xFF == ord('q'):\n",
    "            break\n",
    "\n",
    "    # Libera los recursos\n",
    "    cap.release()\n",
    "    cv2.destroyAllWindows()\n",
    "\n",
    "# Ruta del clasificador HaarCascade para caras\n",
    "ruta_cascada_cara = 'C:\\\\Users\\\\daven\\\\Documents\\\\ITMorelia\\\\Semestre IX\\\\Inteligencia Artificial\\\\haarcascade\\\\haarcascade_frontalface_alt.xml'\n",
    "\n",
    "# Ruta del archivo de video\n",
    "ruta_del_video = 'C:\\\\Users\\\\daven\\\\Documents\\\\ITMorelia\\\\Semestre IX\\\\Inteligencia Artificial\\\\Videos\\\\p4.mp4'\n",
    "\n",
    "# Ruta de destino para las caras redimensionadas\n",
    "ruta_destino = './dataset\\\\p'\n",
    "\n",
    "# Llama a la función para leer el video, detectar caras, redimensionar y guardar\n",
    "leer_video_guardar_caras(ruta_del_video, ruta_cascada_cara, ruta_destino)\n"
   ]
  },
  {
   "cell_type": "code",
   "execution_count": 1,
   "id": "ae5469fd",
   "metadata": {},
   "outputs": [
    {
     "data": {
      "text/plain": [
       "'C:\\\\Users\\\\daven\\\\Documents\\\\ITMorelia\\\\Semestre IX\\\\Inteligencia Artificial\\\\IA\\\\Inteligencia-Artificial\\\\Proyectos\\\\Haarcascade'"
      ]
     },
     "execution_count": 1,
     "metadata": {},
     "output_type": "execute_result"
    }
   ],
   "source": [
    "pwd"
   ]
  },
  {
   "cell_type": "code",
   "execution_count": 22,
   "id": "79c440f3",
   "metadata": {},
   "outputs": [],
   "source": [
    "from PIL import Image\n",
    "import os\n",
    "\n",
    "def convertir_png_a_jpg(ruta_entrada, ruta_salida):\n",
    "    # Verifica si la carpeta de salida existe, si no, la crea\n",
    "    if not os.path.exists(ruta_salida):\n",
    "        os.makedirs(ruta_salida)\n",
    "\n",
    "    # Lista todos los archivos en la carpeta de entrada\n",
    "    archivos = os.listdir(ruta_entrada)\n",
    "\n",
    "    for archivo in archivos:\n",
    "        # Verifica que el archivo sea un PNG\n",
    "        if archivo.lower().endswith('.png'):\n",
    "            # Construye las rutas de entrada y salida\n",
    "            ruta_entrada_archivo = os.path.join(ruta_entrada, archivo)\n",
    "            nombre_archivo_sin_extension = os.path.splitext(archivo)[0]\n",
    "            ruta_salida_archivo = os.path.join(ruta_salida, f\"{nombre_archivo_sin_extension}.jpg\")\n",
    "\n",
    "            # Abre la imagen y guarda en formato JPEG\n",
    "            imagen = Image.open(ruta_entrada_archivo)\n",
    "            imagen.convert(\"RGB\").save(ruta_salida_archivo, \"JPEG\")\n",
    "\n",
    "# Ruta del clasificador HaarCascade para caras\n",
    "ruta_entrada = 'C:\\\\Users\\\\daven\\\\Documents\\\\ITMorelia\\\\Semestre IX\\\\Inteligencia Artificial\\\\IA\\\\Inteligencia-Artificial\\\\Proyectos\\\\Haarcascade\\\\dataset\\\\p'\n",
    "# Ruta del archivo de video\n",
    "ruta_salida = 'C:\\\\Users\\\\daven\\\\Documents\\\\ITMorelia\\\\Semestre IX\\\\Inteligencia Artificial\\\\IA\\\\Inteligencia-Artificial\\\\Proyectos\\\\Haarcascade\\\\dataset-jpg\\\\p'\n",
    "\n",
    "# Llama a la función para convertir imágenes PNG a JPEG\n",
    "convertir_png_a_jpg(ruta_entrada, ruta_salida)"
   ]
  },
  {
   "cell_type": "code",
   "execution_count": null,
   "id": "930ff708",
   "metadata": {},
   "outputs": [],
   "source": []
  }
 ],
 "metadata": {
  "kernelspec": {
   "display_name": "Python 3 (ipykernel)",
   "language": "python",
   "name": "python3"
  },
  "language_info": {
   "codemirror_mode": {
    "name": "ipython",
    "version": 3
   },
   "file_extension": ".py",
   "mimetype": "text/x-python",
   "name": "python",
   "nbconvert_exporter": "python",
   "pygments_lexer": "ipython3",
   "version": "3.11.4"
  }
 },
 "nbformat": 4,
 "nbformat_minor": 5
}
